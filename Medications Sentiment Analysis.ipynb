{
 "cells": [
  {
   "cell_type": "markdown",
   "metadata": {},
   "source": [
    "# Medication Sentiment Analysis\n",
    "In this notebook we aim at estimating which medications have proven to be most successful within the provided corpus.<br>\n",
    "To do so, we downloaded a list of medication names (https://www.kaggle.com/iancornish/drug-data) and search the Covid-19 dataset for those medications. If we find an occurrence, we extract a snippet (50 characters before the occurrence and 100 characters after, removing the first and last word, as those will most likely be clipped) and perform sentiment analysis on this snippet. Then we display a list sorted by the most positive medications, together with the 10 most important words provided by tf-idf on all extracted snippets."
   ]
  },
  {
   "cell_type": "markdown",
   "metadata": {},
   "source": [
    "# Import and install packages"
   ]
  },
  {
   "cell_type": "code",
   "execution_count": 1,
   "metadata": {
    "colab": {},
    "colab_type": "code",
    "id": "IKR5V6efrHPW"
   },
   "outputs": [
    {
     "name": "stdout",
     "output_type": "stream",
     "text": [
      "showing info https://raw.githubusercontent.com/nltk/nltk_data/gh-pages/index.xml\n"
     ]
    },
    {
     "data": {
      "text/plain": [
       "True"
      ]
     },
     "execution_count": 1,
     "metadata": {},
     "output_type": "execute_result"
    }
   ],
   "source": [
    "import nltk\n",
    "nltk.download()"
   ]
  },
  {
   "cell_type": "code",
   "execution_count": 2,
   "metadata": {
    "colab": {},
    "colab_type": "code",
    "id": "xEmZ5Z_z7KXJ"
   },
   "outputs": [
    {
     "name": "stderr",
     "output_type": "stream",
     "text": [
      "\n",
      "Bad key \"text.kerning_factor\" on line 4 in\n",
      "C:\\Users\\m_lev\\Anaconda3\\envs\\ml4hc\\lib\\site-packages\\matplotlib\\mpl-data\\stylelib\\_classic_test_patch.mplstyle.\n",
      "You probably need to get an updated matplotlibrc file from\n",
      "http://github.com/matplotlib/matplotlib/blob/master/matplotlibrc.template\n",
      "or from the matplotlib source distribution\n"
     ]
    }
   ],
   "source": [
    "import pandas as pd\n",
    "import numpy as np\n",
    "import matplotlib.pyplot as plt\n",
    "from nltk import ngrams\n",
    "import re\n",
    "from sklearn.feature_extraction.text import CountVectorizer\n",
    "from sklearn.feature_extraction.text import TfidfTransformer"
   ]
  },
  {
   "cell_type": "code",
   "execution_count": 3,
   "metadata": {
    "colab": {},
    "colab_type": "code",
    "id": "gIz89ZNtKvFH"
   },
   "outputs": [],
   "source": [
    "from nltk.corpus import stopwords\n",
    "stop_words=set(stopwords.words(\"english\"))"
   ]
  },
  {
   "cell_type": "code",
   "execution_count": 4,
   "metadata": {
    "colab": {},
    "colab_type": "code",
    "id": "xUg818d-KvFL"
   },
   "outputs": [],
   "source": [
    "from nltk.stem.wordnet import WordNetLemmatizer\n",
    "lem = WordNetLemmatizer()"
   ]
  },
  {
   "cell_type": "code",
   "execution_count": 5,
   "metadata": {
    "colab": {},
    "colab_type": "code",
    "id": "J5CwazQSKvFO"
   },
   "outputs": [],
   "source": [
    "from nltk.tokenize import RegexpTokenizer\n",
    "tokenizer = RegexpTokenizer(r'\\w+')"
   ]
  },
  {
   "cell_type": "code",
   "execution_count": 6,
   "metadata": {
    "colab": {
     "base_uri": "https://localhost:8080/",
     "height": 71
    },
    "colab_type": "code",
    "executionInfo": {
     "elapsed": 52544,
     "status": "ok",
     "timestamp": 1587060495467,
     "user": {
      "displayName": "vescovo",
      "photoUrl": "https://lh3.googleusercontent.com/a-/AOh14Gi22hywPOLAa2VbLg0nMBYU1SzK00cIBOScGLIYjQ=s64",
      "userId": "17880191025558825140"
     },
     "user_tz": -120
    },
    "id": "7SHBLImRKvFR",
    "outputId": "add522c8-1d00-4399-bc26-f5df515cdbdb"
   },
   "outputs": [],
   "source": [
    "from nltk.sentiment.vader import SentimentIntensityAnalyzer\n",
    "SIA = SentimentIntensityAnalyzer()"
   ]
  },
  {
   "cell_type": "markdown",
   "metadata": {
    "colab_type": "text",
    "id": "0jYRbdjXLIQj"
   },
   "source": [
    "## Medication Sentiment Analysis\n",
    "In this notebook we aim at estimating which medications have proven to be most successful within the provided corpus.<br>\n",
    "To do so, we downloaded a list of medication names and search the Covid-19 dataset for those medications. If we find an occurrence, we extract a snippet (50 characters before the occurrence and 100 characters after, removing the first and last word, as those will most likely be clipped) and perform sentiment analysis on this snippet. Then we display a list sorted by the most positive medications, together with the 10 most important words provided by tf-idf on all extracted snippets."
   ]
  },
  {
   "cell_type": "markdown",
   "metadata": {
    "colab_type": "text",
    "id": "jEUZxbAs5XEJ"
   },
   "source": [
    "Dataset"
   ]
  },
  {
   "cell_type": "code",
   "execution_count": 7,
   "metadata": {
    "colab": {},
    "colab_type": "code",
    "id": "8hu3tIi17lIF"
   },
   "outputs": [],
   "source": [
    "df_clean_pmc = pd.read_csv(\"data/medication _sentiment_analysis_data/clean_pmc.csv\", skiprows=0, header=None)\n",
    "df_clean_noncomm_use = pd.read_csv(\"data/medication _sentiment_analysis_data/clean_noncomm_use.csv\", skiprows=1, header=None)\n",
    "df_clean_comm_use = pd.read_csv(\"data/medication _sentiment_analysis_data/clean_comm_use.csv\", skiprows=1, header=None)\n",
    "df_biorxiv_clean = pd.read_csv(\"data/medication _sentiment_analysis_data/biorxiv_clean.csv\", skiprows=1, header=None)"
   ]
  },
  {
   "cell_type": "code",
   "execution_count": 8,
   "metadata": {
    "colab": {},
    "colab_type": "code",
    "id": "BUIYvfFzpX2A"
   },
   "outputs": [],
   "source": [
    "df_concat = pd.concat([df_clean_pmc, df_clean_comm_use, df_clean_noncomm_use, df_biorxiv_clean])"
   ]
  },
  {
   "cell_type": "code",
   "execution_count": 9,
   "metadata": {
    "colab": {},
    "colab_type": "code",
    "id": "cGww9BbFppRd"
   },
   "outputs": [],
   "source": [
    "data = df_concat.to_numpy()"
   ]
  },
  {
   "cell_type": "code",
   "execution_count": 10,
   "metadata": {
    "colab": {
     "base_uri": "https://localhost:8080/",
     "height": 34
    },
    "colab_type": "code",
    "executionInfo": {
     "elapsed": 8414,
     "status": "ok",
     "timestamp": 1587060518918,
     "user": {
      "displayName": "vescovo",
      "photoUrl": "https://lh3.googleusercontent.com/a-/AOh14Gi22hywPOLAa2VbLg0nMBYU1SzK00cIBOScGLIYjQ=s64",
      "userId": "17880191025558825140"
     },
     "user_tz": -120
    },
    "id": "LiplWQtZpuQ9",
    "outputId": "9adde48a-370b-4224-a1a2-602e6ce19452"
   },
   "outputs": [
    {
     "data": {
      "text/plain": [
       "(13203, 9)"
      ]
     },
     "execution_count": 10,
     "metadata": {},
     "output_type": "execute_result"
    }
   ],
   "source": [
    "data.shape"
   ]
  },
  {
   "cell_type": "code",
   "execution_count": 11,
   "metadata": {
    "colab": {
     "base_uri": "https://localhost:8080/",
     "height": 51
    },
    "colab_type": "code",
    "executionInfo": {
     "elapsed": 8084,
     "status": "ok",
     "timestamp": 1587060518918,
     "user": {
      "displayName": "vescovo",
      "photoUrl": "https://lh3.googleusercontent.com/a-/AOh14Gi22hywPOLAa2VbLg0nMBYU1SzK00cIBOScGLIYjQ=s64",
      "userId": "17880191025558825140"
     },
     "user_tz": -120
    },
    "id": "XmQtMKYvpw8i",
    "outputId": "371fabad-fa5b-4110-9ad0-d9623e05cc06"
   },
   "outputs": [
    {
     "data": {
      "text/plain": [
       "array(['paper_id', 'title', 'authors', 'affiliations', 'abstract', 'text',\n",
       "       'bibliography', 'raw_authors', 'raw_bibliography'], dtype=object)"
      ]
     },
     "execution_count": 11,
     "metadata": {},
     "output_type": "execute_result"
    }
   ],
   "source": [
    "data[0]"
   ]
  },
  {
   "cell_type": "markdown",
   "metadata": {
    "colab_type": "text",
    "id": "cjr0b_cdKvFo"
   },
   "source": [
    "Medication names"
   ]
  },
  {
   "cell_type": "code",
   "execution_count": 12,
   "metadata": {
    "colab": {},
    "colab_type": "code",
    "id": "eDhSVIRFrNG0"
   },
   "outputs": [],
   "source": [
    "df_drug_ratings = pd.read_csv(\"data/medication _sentiment_analysis_data/drugsComTest_raw.csv\", skiprows=0, header=None)"
   ]
  },
  {
   "cell_type": "code",
   "execution_count": 13,
   "metadata": {
    "colab": {},
    "colab_type": "code",
    "id": "zvJIxXKmrNI9"
   },
   "outputs": [],
   "source": [
    "drug_ratings = df_drug_ratings.to_numpy()"
   ]
  },
  {
   "cell_type": "code",
   "execution_count": 14,
   "metadata": {
    "colab": {
     "base_uri": "https://localhost:8080/",
     "height": 34
    },
    "colab_type": "code",
    "executionInfo": {
     "elapsed": 1251,
     "status": "ok",
     "timestamp": 1587060531418,
     "user": {
      "displayName": "vescovo",
      "photoUrl": "https://lh3.googleusercontent.com/a-/AOh14Gi22hywPOLAa2VbLg0nMBYU1SzK00cIBOScGLIYjQ=s64",
      "userId": "17880191025558825140"
     },
     "user_tz": -120
    },
    "id": "R--bwROBrZHw",
    "outputId": "53278ea4-c1ad-40c8-f49a-272aad9edc75"
   },
   "outputs": [
    {
     "data": {
      "text/plain": [
       "(53767, 7)"
      ]
     },
     "execution_count": 14,
     "metadata": {},
     "output_type": "execute_result"
    }
   ],
   "source": [
    "drug_ratings.shape"
   ]
  },
  {
   "cell_type": "code",
   "execution_count": 15,
   "metadata": {
    "colab": {
     "base_uri": "https://localhost:8080/",
     "height": 88
    },
    "colab_type": "code",
    "executionInfo": {
     "elapsed": 1258,
     "status": "ok",
     "timestamp": 1587060533350,
     "user": {
      "displayName": "vescovo",
      "photoUrl": "https://lh3.googleusercontent.com/a-/AOh14Gi22hywPOLAa2VbLg0nMBYU1SzK00cIBOScGLIYjQ=s64",
      "userId": "17880191025558825140"
     },
     "user_tz": -120
    },
    "id": "Cdcyivf8ra7P",
    "outputId": "8a5dccce-e946-4655-fd4f-1b6408b161fd"
   },
   "outputs": [
    {
     "data": {
      "text/plain": [
       "array(['163740', 'Mirtazapine', 'Depression',\n",
       "       '\"I&#039;ve tried a few antidepressants over the years (citalopram, fluoxetine, amitriptyline), but none of those helped with my depression, insomnia &amp; anxiety. My doctor suggested and changed me onto 45mg mirtazapine and this medicine has saved my life. Thankfully I have had no side effects especially the most common - weight gain, I&#039;ve actually lost alot of weight. I still have suicidal thoughts but mirtazapine has saved me.\"',\n",
       "       '10', '28-Feb-12', '22'], dtype=object)"
      ]
     },
     "execution_count": 15,
     "metadata": {},
     "output_type": "execute_result"
    }
   ],
   "source": [
    "drug_ratings[1]"
   ]
  },
  {
   "cell_type": "code",
   "execution_count": 16,
   "metadata": {
    "colab": {},
    "colab_type": "code",
    "id": "8c21cunLrxdB"
   },
   "outputs": [],
   "source": [
    "drugs = np.unique(drug_ratings[1:,1])\n",
    "conditions = np.unique(drug_ratings[1:,2].astype(str))[44:]"
   ]
  },
  {
   "cell_type": "code",
   "execution_count": 17,
   "metadata": {
    "colab": {
     "base_uri": "https://localhost:8080/",
     "height": 34
    },
    "colab_type": "code",
    "executionInfo": {
     "elapsed": 513,
     "status": "ok",
     "timestamp": 1587060535301,
     "user": {
      "displayName": "vescovo",
      "photoUrl": "https://lh3.googleusercontent.com/a-/AOh14Gi22hywPOLAa2VbLg0nMBYU1SzK00cIBOScGLIYjQ=s64",
      "userId": "17880191025558825140"
     },
     "user_tz": -120
    },
    "id": "1_Ho98dKtAT0",
    "outputId": "847186c4-5634-4e53-c9ed-f33755f9bb7d"
   },
   "outputs": [
    {
     "name": "stdout",
     "output_type": "stream",
     "text": [
      "(2637,) (665,)\n"
     ]
    }
   ],
   "source": [
    "print(drugs.shape, conditions.shape)"
   ]
  },
  {
   "cell_type": "code",
   "execution_count": 18,
   "metadata": {
    "colab": {},
    "colab_type": "code",
    "id": "MFcjPjC8KvF7"
   },
   "outputs": [],
   "source": [
    "# Given a document and an index, this method will extract a snippet of\n",
    "# 50 characters before and 100 characters after the index\n",
    "def get_snippet(index, doc):\n",
    "    return doc[max(index.start()-50, 0):max(index.start()-1, 0)] +\\\n",
    "            doc[index.end():min(index.end()+100, len(doc))]"
   ]
  },
  {
   "cell_type": "code",
   "execution_count": 19,
   "metadata": {
    "colab": {},
    "colab_type": "code",
    "id": "kuH5-z6uKvF9"
   },
   "outputs": [],
   "source": [
    "# Given a drug name and a document, this method returns all snippets containing this drug, the average of compound\n",
    "# sentiment results and the number of occurrences\n",
    "def process(drug, doc):\n",
    "    s = []\n",
    "    o = 0\n",
    "    d = \"\"\n",
    "    for index in re.finditer(drug.lower(), str(doc)):\n",
    "        snippet = get_snippet(index, doc)\n",
    "        sentiment = SIA.polarity_scores(snippet)\n",
    "        s.append(sentiment['compound'])\n",
    "        d += ' '.join([lem.lemmatize(w) for w in tokenizer.tokenize(snippet)[1:-1] if not w in stop_words])\n",
    "        o += 1\n",
    "        \n",
    "    return s, d, o"
   ]
  },
  {
   "cell_type": "code",
   "execution_count": 20,
   "metadata": {
    "colab": {},
    "colab_type": "code",
    "id": "IGoz7j4XKvGA",
    "outputId": "2b54ca15-af07-465f-c033-40528e6c0277"
   },
   "outputs": [
    {
     "name": "stdout",
     "output_type": "stream",
     "text": [
      "Total: 2637\n",
      "Progress: 2636\r"
     ]
    }
   ],
   "source": [
    "drugnames = []\n",
    "sentimemts = []\n",
    "documents = []\n",
    "occurrences = []\n",
    "\n",
    "print(\"Total:\", len(drugs))\n",
    "for i, drug in enumerate(drugs):\n",
    "    print(\"Progress:\", i, end=\"\\r\")\n",
    "    s = []\n",
    "    o = 0\n",
    "    d = \"\"\n",
    "    for doc in data[1:]:\n",
    "        # process the abstract\n",
    "        p = process(drug, doc[4])\n",
    "        if p[2] > 0: \n",
    "            s += p[0]\n",
    "            d += \" \" + p[1]\n",
    "            o += p[2]\n",
    "        # process the content\n",
    "        p = process(drug, doc[5])\n",
    "        if p[2] > 0: \n",
    "            s += p[0]\n",
    "            d += \" \" + p[1]\n",
    "            o += p[2]\n",
    "    \n",
    "    # keep only the drugs that occured more than 10 times\n",
    "    if o > 10:\n",
    "        drugnames.append(drug)\n",
    "        sentimemts.append(np.array(s))\n",
    "        documents.append(d)  \n",
    "        occurrences.append(o)"
   ]
  },
  {
   "cell_type": "code",
   "execution_count": 21,
   "metadata": {
    "colab": {},
    "colab_type": "code",
    "id": "bNL1lGJhKvGD",
    "outputId": "f73260b6-40a3-49fd-ffd1-1585f169a8e3"
   },
   "outputs": [
    {
     "data": {
      "text/plain": [
       "' expressed chronic stage induced epilepsy medically refractory MTLE 4 Other experimental microarray studyacid tetanus toxin pentylenetetrazol directly injected induce primary focus epileptogenic activity immediate areaTwo study chemically induced epilepsy investigated proteomic profile following epileptogenesis whole hippocampus alonegene expression kainic acid model epileptogenesis despite studied exacting environment intraperitoneally injected 100 ml sterile solution 10 mg ml order collect saliva sample These fluid stored 270uC lymphocytic choriomeningitis virus LCMV induced BBB permeabilization subsequent seizure Fabene et al 2008 Kim et al 2009 observed following kainic acid 39 mediated seizure induction 40 rodent CCL2 CCR2 increased tissue also exerted neuroprotective activity induced epileptic mouse After preventive administration biflavonoid three consecutive total salivary secretion determined stimulation Blazsek Varga 1999 The salivary secretion tightly regulatedBrenner Stanton 1970 methoxamine Inanaga et al 1988 terbutaline Sodicoff et al 1980 methacholine epinephrineacinar cell resistant 3 hour induced degranulation tele insular acinar cell 1 hour The size peri insular halodirectly affecting exocrine pancreas like The incidence basophilic focus 6 6 control 5 4 corn oil gavage historicalacinar cell resistant 3 hour induced degranulation tele insular acinar cell 1 hour The size peri insular halodirectly affecting exocrine pancreas like Focus basophilic Figure 224 Synonyms Basophilic atypical acinar cell focus focal 15 minute topical application 0 1 retraction prolapsed nictitating membrane within 15 minute topical application 1 10In FD case test negative 5 13 1 5 epinephrine These finding suggest proposed CSS OPTs reliable observed following kainic acid 39 mediated seizure induction 40 rodent CCL2 CCR2 increased tissue regulate TNC hippocampus epilepsy model regulation shown mediated TGF b signalling Mercado Gomez'"
      ]
     },
     "execution_count": 21,
     "metadata": {},
     "output_type": "execute_result"
    }
   ],
   "source": [
    "# Example of a collection of snippets for a certain medication\n",
    "documents[256]"
   ]
  },
  {
   "cell_type": "markdown",
   "metadata": {
    "colab_type": "text",
    "id": "kat9rYI4KvGG"
   },
   "source": [
    "Perform tf-idf on the collections of snippets."
   ]
  },
  {
   "cell_type": "code",
   "execution_count": 22,
   "metadata": {
    "colab": {},
    "colab_type": "code",
    "id": "7DQ-eDLeKvGG"
   },
   "outputs": [],
   "source": [
    "cvec = CountVectorizer(max_df=.85, stop_words=stop_words, ngram_range=(1, 3))\n",
    "wordcounts = cvec.fit_transform(documents)"
   ]
  },
  {
   "cell_type": "code",
   "execution_count": 23,
   "metadata": {
    "colab": {},
    "colab_type": "code",
    "id": "BvY2EXmHKvGJ"
   },
   "outputs": [],
   "source": [
    "tfidf_trans = TfidfTransformer(smooth_idf=True, use_idf=True)\n",
    "tf_idf = tfidf_trans.fit_transform(wordcounts)"
   ]
  },
  {
   "cell_type": "code",
   "execution_count": 24,
   "metadata": {
    "colab": {},
    "colab_type": "code",
    "id": "F9_c_TSMKvGL"
   },
   "outputs": [],
   "source": [
    "voc = np.asarray(cvec.get_feature_names())"
   ]
  },
  {
   "cell_type": "code",
   "execution_count": 25,
   "metadata": {
    "colab": {},
    "colab_type": "code",
    "id": "ENxP90tzKvGT"
   },
   "outputs": [],
   "source": [
    "# Collect results\n",
    "res = []\n",
    "for i, d in enumerate(tf_idf):\n",
    "    if len(documents[i]) > 0:\n",
    "        res.append([drugnames[i], occurrences[i], sentimemts[i].mean().round(2),\n",
    "                    np.asarray(sentimemts[i]).var().round(2), voc[d.toarray().argsort()[0, -10:]]])"
   ]
  },
  {
   "cell_type": "code",
   "execution_count": 26,
   "metadata": {
    "colab": {},
    "colab_type": "code",
    "id": "7JowsNcrKvGW"
   },
   "outputs": [],
   "source": [
    "res = sorted(res, reverse=True, key=lambda x: x[2])"
   ]
  },
  {
   "cell_type": "code",
   "execution_count": 27,
   "metadata": {
    "colab": {},
    "colab_type": "code",
    "id": "H6Oq5IAuKvGY",
    "outputId": "6841406d-90e2-4128-c286-5b765a6b662b"
   },
   "outputs": [
    {
     "name": "stdout",
     "output_type": "stream",
     "text": [
      "               Name  Occs  Sentiment Mean  Stddev  \\\n",
      "0         Ivacaftor    11            0.34    0.09   \n",
      "1    Cholestyramine    16            0.29    0.10   \n",
      "2        Zinc oxide    22            0.23    0.07   \n",
      "3            Testim    61            0.22    0.11   \n",
      "4            Vantin    35            0.22    0.08   \n",
      "..              ...   ...             ...     ...   \n",
      "344       Celecoxib    33           -0.17    0.11   \n",
      "345      Sucralfate    12           -0.17    0.12   \n",
      "346       Clozapine    18           -0.18    0.09   \n",
      "347     Amphetamine    51           -0.19    0.17   \n",
      "348       Meloxicam    30           -0.20    0.21   \n",
      "\n",
      "                                                tf-idf  \n",
      "0    [cftr channel, highlighted importance, al high...  \n",
      "1    [two week daily, bile acid sequestrant, admini...  \n",
      "2    [medicinal product, fumaric, medicinal product...  \n",
      "3    [read real, real quote, php read real, real qu...  \n",
      "4    [plasmid, pam, adjg lipopeptide, self adjg lip...  \n",
      "..                                                 ...  \n",
      "344  [ns 398, inhibitor indomethacin, cox inhibitor...  \n",
      "345  [dog determine, ciprofloxacin enrofloxacin, im...  \n",
      "346  [hydrochloride salmeterol, salmeterol xinafoat...  \n",
      "347  [methylenedioxymet, stimulant similar, methyle...  \n",
      "348  [group treated saline, sdma, ferret, po, kg po...  \n",
      "\n",
      "[349 rows x 5 columns]\n"
     ]
    }
   ],
   "source": [
    "# Medications sorted by sentiment score\n",
    "labels = ['Name', 'Occs', 'Sentiment Mean', 'Stddev', 'tf-idf']\n",
    "print(pd.DataFrame(res, range(len(res)), labels))"
   ]
  },
  {
   "cell_type": "code",
   "execution_count": 28,
   "metadata": {
    "colab": {},
    "colab_type": "code",
    "id": "0_eUHUDfKvGb",
    "outputId": "86a3ac86-dfb0-4586-c6d3-90ee55374718"
   },
   "outputs": [
    {
     "name": "stdout",
     "output_type": "stream",
     "text": [
      "['Ovide', 44161, 0.16, 0.11, array(['virus', 'study', 'evidence', 'health', 'data', 'kindly pd', 'pr',\n",
      "       'insight', 'information', 'pd'], dtype='<U134')]\n"
     ]
    }
   ],
   "source": [
    "# Medication with highest number of occurrences\n",
    "res = sorted(res, reverse=True, key=lambda x: x[1])\n",
    "print(res[0])"
   ]
  },
  {
   "cell_type": "code",
   "execution_count": 29,
   "metadata": {
    "colab": {},
    "colab_type": "code",
    "id": "uSLJc0LYKvGe",
    "outputId": "f98a92cc-5a66-4e3d-e6e5-6abeae59d59b"
   },
   "outputs": [
    {
     "name": "stdout",
     "output_type": "stream",
     "text": [
      "['Lactulose', 17, 0.05, 0.27, array(['microbiota', 'faecal', 'kg', 'faecal microbiota',\n",
      "       'intestinal permeability', 'intestinal', 'oligosaccharide', 'po',\n",
      "       'po q8h', 'q8h'], dtype='<U134')]\n"
     ]
    }
   ],
   "source": [
    "# Most controverse medication\n",
    "res = sorted(res, reverse=True, key=lambda x: x[3])\n",
    "print(res[0])"
   ]
  },
  {
   "cell_type": "markdown",
   "metadata": {
    "colab": {},
    "colab_type": "code",
    "id": "ZGrCrn1iKvGh"
   },
   "source": [
    "# Conclusion\n",
    "Unfortunately, some important medication names like cloroquine are not contained in the list of medications. We were not able to find a publicly available, more complete dataset for this experiment. But it could easily be repeated in case we were to find such a list.<br>\n",
    "Sentiment analysis in the medical domain is very complex and subject to many studies, as mentioned in this paper: https://www.sciencedirect.com/science/article/pii/S0933365715000299<br>\n",
    "We are well aware that our approach is basic and sometimes inaccurate, as it will for instance give negative sentiment to the following sentence \"This medication heals cancer\". This is also reflected in the results: none of the top medications seem to have a connection with coronavirus. In order for this method to work, we would therefore need to greatly improve sentiment analysis."
   ]
  }
 ],
 "metadata": {
  "accelerator": "GPU",
  "colab": {
   "collapsed_sections": [],
   "name": "Medications Sentiment Analysis.ipynb",
   "provenance": [],
   "toc_visible": true
  },
  "kernelspec": {
   "display_name": "Python 3",
   "language": "python",
   "name": "python3"
  },
  "language_info": {
   "codemirror_mode": {
    "name": "ipython",
    "version": 3
   },
   "file_extension": ".py",
   "mimetype": "text/x-python",
   "name": "python",
   "nbconvert_exporter": "python",
   "pygments_lexer": "ipython3",
   "version": "3.7.4"
  }
 },
 "nbformat": 4,
 "nbformat_minor": 1
}
